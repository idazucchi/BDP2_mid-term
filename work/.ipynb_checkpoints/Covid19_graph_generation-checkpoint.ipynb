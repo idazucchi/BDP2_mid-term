{
 "cells": [
  {
   "cell_type": "markdown",
   "metadata": {},
   "source": [
    "**This is my first notebook in a while**\n",
    "\n",
    "please have some patience\n"
   ]
  },
  {
   "cell_type": "code",
   "execution_count": 2,
   "metadata": {},
   "outputs": [
    {
     "name": "stdout",
     "output_type": "stream",
     "text": [
      "j\n",
      "o\n",
      "k\n",
      "e\n"
     ]
    }
   ],
   "source": [
    "s = 'joke'\n",
    "for i in s:\n",
    "    print(i)"
   ]
  },
  {
   "cell_type": "code",
   "execution_count": 4,
   "metadata": {},
   "outputs": [
    {
     "name": "stdout",
     "output_type": "stream",
     "text": [
      "done\n"
     ]
    }
   ],
   "source": [
    "with open('test_file.txt','w') as d:\n",
    "    d.write(s)\n",
    "    print('done')\n"
   ]
  },
  {
   "cell_type": "code",
   "execution_count": 11,
   "metadata": {},
   "outputs": [
    {
     "name": "stdout",
     "output_type": "stream",
     "text": [
      "['.bashrc', '.profile', '.bash_logout', '.ipython', 'test.ipynb', 'test_file.txt', '.ipynb_checkpoints', '.local', '.cache', '.config', '.jupyter', '.conda', 'work']\n",
      "/home/jovyan\n"
     ]
    }
   ],
   "source": [
    "import os\n",
    "print(os.listdir(os.getcwd()))\n",
    "print(os.path.abspath(os.getcwd()))"
   ]
  },
  {
   "cell_type": "markdown",
   "metadata": {},
   "source": [
    "Here I try to import the data in the json format to see how it goes"
   ]
  },
  {
   "cell_type": "code",
   "execution_count": 12,
   "metadata": {},
   "outputs": [],
   "source": [
    "import requests\n",
    "import json\n",
    "url = 'https://raw.githubusercontent.com/pcm-dpc/COVID-19/master/dati-json/dpc-covid19-ita-andamento-nazionale.json'\n",
    "data = requests.get(url)\n",
    "json_1 = json.loads(data.content)\n"
   ]
  },
  {
   "cell_type": "code",
   "execution_count": 16,
   "metadata": {},
   "outputs": [
    {
     "data": {
      "text/plain": [
       "{'data': '2020-02-24T18:00:00',\n",
       " 'stato': 'ITA',\n",
       " 'ricoverati_con_sintomi': 101,\n",
       " 'terapia_intensiva': 26,\n",
       " 'totale_ospedalizzati': 127,\n",
       " 'isolamento_domiciliare': 94,\n",
       " 'totale_positivi': 221,\n",
       " 'variazione_totale_positivi': 0,\n",
       " 'nuovi_positivi': 221,\n",
       " 'dimessi_guariti': 1,\n",
       " 'deceduti': 7,\n",
       " 'totale_casi': 229,\n",
       " 'tamponi': 4324,\n",
       " 'casi_testati': None,\n",
       " 'note_it': '',\n",
       " 'note_en': ''}"
      ]
     },
     "execution_count": 16,
     "metadata": {},
     "output_type": "execute_result"
    }
   ],
   "source": [
    "json_1[0]"
   ]
  },
  {
   "cell_type": "code",
   "execution_count": 18,
   "metadata": {},
   "outputs": [
    {
     "name": "stdout",
     "output_type": "stream",
     "text": [
      "112\n",
      "112\n"
     ]
    }
   ],
   "source": [
    "json_1[0]['isolamento_domiciliare']\n",
    "print(len(json_1))\n",
    "l = [el['isolamento_domiciliare'] for el in json_1]\n",
    "print(len(l))"
   ]
  },
  {
   "cell_type": "code",
   "execution_count": 19,
   "metadata": {},
   "outputs": [
    {
     "data": {
      "text/plain": [
       "3.7333333333333334"
      ]
     },
     "execution_count": 19,
     "metadata": {},
     "output_type": "execute_result"
    }
   ],
   "source": [
    "112/30\n"
   ]
  },
  {
   "cell_type": "markdown",
   "metadata": {},
   "source": [
    "# Sono quasi 4 mesi che questa merda va avanti"
   ]
  },
  {
   "cell_type": "code",
   "execution_count": null,
   "metadata": {},
   "outputs": [],
   "source": []
  }
 ],
 "metadata": {
  "kernelspec": {
   "display_name": "Python 3",
   "language": "python",
   "name": "python3"
  },
  "language_info": {
   "codemirror_mode": {
    "name": "ipython",
    "version": 3
   },
   "file_extension": ".py",
   "mimetype": "text/x-python",
   "name": "python",
   "nbconvert_exporter": "python",
   "pygments_lexer": "ipython3",
   "version": "3.7.6"
  }
 },
 "nbformat": 4,
 "nbformat_minor": 4
}
